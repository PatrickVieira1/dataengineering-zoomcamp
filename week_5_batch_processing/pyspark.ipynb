{
 "cells": [
  {
   "cell_type": "code",
   "execution_count": 1,
   "metadata": {},
   "outputs": [],
   "source": [
    "import pyspark\n",
    "from pyspark.sql import SparkSession\n",
    "spark = SparkSession.builder \\\n",
    "    .master(\"local[*]\") \\\n",
    "    .appName('test') \\\n",
    "    .getOrCreate()"
   ]
  },
  {
   "cell_type": "code",
   "execution_count": 3,
   "metadata": {},
   "outputs": [],
   "source": [
    "# !wget https://github.com/DataTalksClub/nyc-tlc-data/releases/download/fhvhv/fhvhv_tripdata_2021-01.csv.gz"
   ]
  },
  {
   "cell_type": "code",
   "execution_count": 4,
   "metadata": {},
   "outputs": [],
   "source": [
    "# !wc -l fhvhv_tripdata_2021-01.csv"
   ]
  },
  {
   "cell_type": "code",
   "execution_count": 6,
   "metadata": {},
   "outputs": [],
   "source": [
    "df = spark.read \\\n",
    "    .option(\"header\", \"true\") \\\n",
    "    .csv('fhvhv_tripdata_2021-01.csv')"
   ]
  },
  {
   "cell_type": "code",
   "execution_count": 7,
   "metadata": {},
   "outputs": [
    {
     "data": {
      "text/plain": [
       "StructType([StructField('hvfhs_license_num', StringType(), True), StructField('dispatching_base_num', StringType(), True), StructField('pickup_datetime', StringType(), True), StructField('dropoff_datetime', StringType(), True), StructField('PULocationID', StringType(), True), StructField('DOLocationID', StringType(), True), StructField('SR_Flag', StringType(), True)])"
      ]
     },
     "execution_count": 7,
     "metadata": {},
     "output_type": "execute_result"
    }
   ],
   "source": [
    "df.schema"
   ]
  },
  {
   "cell_type": "code",
   "execution_count": null,
   "metadata": {},
   "outputs": [],
   "source": [
    "# !gzip -d fhvhv_tripdata_2021-01.csv.gz"
   ]
  },
  {
   "cell_type": "code",
   "execution_count": null,
   "metadata": {},
   "outputs": [],
   "source": [
    "# !head -n 1001 fhvhv_tripdata_2021-01.csv > head.csv"
   ]
  },
  {
   "cell_type": "code",
   "execution_count": 8,
   "metadata": {},
   "outputs": [],
   "source": [
    "import pandas as pd"
   ]
  },
  {
   "cell_type": "code",
   "execution_count": 9,
   "metadata": {},
   "outputs": [],
   "source": [
    "df_pandas = pd.read_csv('head.csv')"
   ]
  },
  {
   "cell_type": "code",
   "execution_count": 10,
   "metadata": {},
   "outputs": [
    {
     "data": {
      "text/plain": [
       "hvfhs_license_num        object\n",
       "dispatching_base_num     object\n",
       "pickup_datetime          object\n",
       "dropoff_datetime         object\n",
       "PULocationID              int64\n",
       "DOLocationID              int64\n",
       "SR_Flag                 float64\n",
       "dtype: object"
      ]
     },
     "execution_count": 10,
     "metadata": {},
     "output_type": "execute_result"
    }
   ],
   "source": [
    "df_pandas.dtypes"
   ]
  },
  {
   "cell_type": "code",
   "execution_count": 11,
   "metadata": {},
   "outputs": [
    {
     "name": "stderr",
     "output_type": "stream",
     "text": [
      "/usr/local/lib/python3.9/dist-packages/pyspark/sql/pandas/conversion.py:474: FutureWarning: iteritems is deprecated and will be removed in a future version. Use .items instead.\n",
      "  for column, series in pdf.iteritems():\n",
      "/usr/local/lib/python3.9/dist-packages/pyspark/sql/pandas/conversion.py:486: FutureWarning: iteritems is deprecated and will be removed in a future version. Use .items instead.\n",
      "  for column, series in pdf.iteritems():\n"
     ]
    },
    {
     "data": {
      "text/plain": [
       "StructType([StructField('hvfhs_license_num', StringType(), True), StructField('dispatching_base_num', StringType(), True), StructField('pickup_datetime', StringType(), True), StructField('dropoff_datetime', StringType(), True), StructField('PULocationID', LongType(), True), StructField('DOLocationID', LongType(), True), StructField('SR_Flag', DoubleType(), True)])"
      ]
     },
     "execution_count": 11,
     "metadata": {},
     "output_type": "execute_result"
    }
   ],
   "source": [
    "spark.createDataFrame(df_pandas).schema"
   ]
  },
  {
   "cell_type": "code",
   "execution_count": 12,
   "metadata": {},
   "outputs": [],
   "source": [
    "from pyspark.sql import types"
   ]
  },
  {
   "cell_type": "code",
   "execution_count": 13,
   "metadata": {},
   "outputs": [],
   "source": [
    "schema = types.StructType([\n",
    "    types.StructField('hvfhs_license_num', types.StringType(), True),\n",
    "    types.StructField('dispatching_base_num', types.StringType(), True),\n",
    "    types.StructField('pickup_datetime', types.TimestampType(), True),\n",
    "    types.StructField('dropoff_datetime', types.TimestampType(), True),\n",
    "    types.StructField('PULocationID', types.IntegerType(), True),\n",
    "    types.StructField('DOLocationID', types.IntegerType(), True),\n",
    "    types.StructField('SR_Flag', types.StringType(), True)\n",
    "])"
   ]
  },
  {
   "cell_type": "code",
   "execution_count": 14,
   "metadata": {},
   "outputs": [],
   "source": [
    "\n",
    "\n",
    "df = spark.read \\\n",
    "    .option(\"header\", \"true\") \\\n",
    "    .schema(schema) \\\n",
    "    .csv('fhvhv_tripdata_2021-01.csv')\n",
    "\n"
   ]
  },
  {
   "cell_type": "code",
   "execution_count": 15,
   "metadata": {},
   "outputs": [
    {
     "name": "stdout",
     "output_type": "stream",
     "text": [
      "+-----------------+--------------------+-------------------+-------------------+------------+------------+-------+\n",
      "|hvfhs_license_num|dispatching_base_num|    pickup_datetime|   dropoff_datetime|PULocationID|DOLocationID|SR_Flag|\n",
      "+-----------------+--------------------+-------------------+-------------------+------------+------------+-------+\n",
      "|           HV0003|              B02682|2021-01-01 00:33:44|2021-01-01 00:49:07|         230|         166|   null|\n",
      "|           HV0003|              B02682|2021-01-01 00:55:19|2021-01-01 01:18:21|         152|         167|   null|\n",
      "|           HV0003|              B02764|2021-01-01 00:23:56|2021-01-01 00:38:05|         233|         142|   null|\n",
      "|           HV0003|              B02764|2021-01-01 00:42:51|2021-01-01 00:45:50|         142|         143|   null|\n",
      "|           HV0003|              B02764|2021-01-01 00:48:14|2021-01-01 01:08:42|         143|          78|   null|\n",
      "|           HV0005|              B02510|2021-01-01 00:06:59|2021-01-01 00:43:01|          88|          42|   null|\n",
      "|           HV0005|              B02510|2021-01-01 00:50:00|2021-01-01 01:04:57|          42|         151|   null|\n",
      "|           HV0003|              B02764|2021-01-01 00:14:30|2021-01-01 00:50:27|          71|         226|   null|\n",
      "|           HV0003|              B02875|2021-01-01 00:22:54|2021-01-01 00:30:20|         112|         255|   null|\n",
      "|           HV0003|              B02875|2021-01-01 00:40:12|2021-01-01 00:53:31|         255|         232|   null|\n",
      "|           HV0003|              B02875|2021-01-01 00:56:45|2021-01-01 01:17:42|         232|         198|   null|\n",
      "|           HV0003|              B02835|2021-01-01 00:29:04|2021-01-01 00:36:27|         113|          48|   null|\n",
      "|           HV0003|              B02835|2021-01-01 00:48:56|2021-01-01 00:59:12|         239|          75|   null|\n",
      "|           HV0004|              B02800|2021-01-01 00:15:24|2021-01-01 00:38:31|         181|         237|   null|\n",
      "|           HV0004|              B02800|2021-01-01 00:45:00|2021-01-01 01:06:45|         236|          68|   null|\n",
      "|           HV0003|              B02682|2021-01-01 00:11:53|2021-01-01 00:18:06|         256|         148|   null|\n",
      "|           HV0003|              B02682|2021-01-01 00:28:31|2021-01-01 00:41:40|          79|          80|   null|\n",
      "|           HV0003|              B02682|2021-01-01 00:50:49|2021-01-01 00:55:59|          17|         217|   null|\n",
      "|           HV0005|              B02510|2021-01-01 00:08:40|2021-01-01 00:39:39|          62|          29|   null|\n",
      "|           HV0003|              B02836|2021-01-01 00:53:48|2021-01-01 01:11:40|          22|          22|   null|\n",
      "+-----------------+--------------------+-------------------+-------------------+------------+------------+-------+\n",
      "only showing top 20 rows\n",
      "\n"
     ]
    }
   ],
   "source": [
    "df.show()"
   ]
  },
  {
   "cell_type": "code",
   "execution_count": 16,
   "metadata": {},
   "outputs": [],
   "source": [
    "df = df.repartition(24)"
   ]
  },
  {
   "cell_type": "code",
   "execution_count": null,
   "metadata": {},
   "outputs": [],
   "source": [
    "# df.write.parquet('fhvhv/')"
   ]
  },
  {
   "cell_type": "code",
   "execution_count": 17,
   "metadata": {},
   "outputs": [],
   "source": [
    "from pyspark.sql import functions as f"
   ]
  },
  {
   "cell_type": "code",
   "execution_count": 19,
   "metadata": {},
   "outputs": [],
   "source": [
    "def crazy_stuff(base_num):\n",
    "    num = int(base_num[1:])\n",
    "    if num % 7 == 0:\n",
    "        return f's/{num:03x}'\n",
    "    elif num % 3 == 0:\n",
    "        return f'a/{num:03x}'\n",
    "    else:\n",
    "        return f'e/{num:03x}'\n",
    "    \n",
    "crazy_stuff_udf = f.udf(crazy_stuff, returnType=types.StringType())"
   ]
  },
  {
   "cell_type": "code",
   "execution_count": 20,
   "metadata": {},
   "outputs": [
    {
     "name": "stderr",
     "output_type": "stream",
     "text": [
      "[Stage 5:===================================================>       (7 + 1) / 8]\r"
     ]
    },
    {
     "name": "stdout",
     "output_type": "stream",
     "text": [
      "+-----------------+--------------------+-------------------+-------------------+------------+------------+-------+-----------+------------+-------+\n",
      "|hvfhs_license_num|dispatching_base_num|    pickup_datetime|   dropoff_datetime|PULocationID|DOLocationID|SR_Flag|pickup_date|dropoff_date|base_id|\n",
      "+-----------------+--------------------+-------------------+-------------------+------------+------------+-------+-----------+------------+-------+\n",
      "|           HV0003|              B02877|2021-01-04 04:27:31|2021-01-04 04:44:32|          56|         229|   null| 2021-01-04|  2021-01-04|  s/b3d|\n",
      "|           HV0003|              B02884|2021-01-04 15:09:21|2021-01-04 15:16:34|          28|         215|   null| 2021-01-04|  2021-01-04|  s/b44|\n",
      "|           HV0003|              B02875|2021-01-05 09:28:45|2021-01-05 09:37:04|         147|          78|   null| 2021-01-05|  2021-01-05|  e/b3b|\n",
      "|           HV0005|              B02510|2021-01-02 14:54:39|2021-01-02 15:16:06|           7|         112|   null| 2021-01-02|  2021-01-02|  e/9ce|\n",
      "|           HV0003|              B02764|2021-01-02 16:51:34|2021-01-02 17:15:32|          77|         155|   null| 2021-01-02|  2021-01-02|  e/acc|\n",
      "|           HV0003|              B02884|2021-01-01 15:10:06|2021-01-01 15:24:10|         130|          76|   null| 2021-01-01|  2021-01-01|  s/b44|\n",
      "|           HV0003|              B02835|2021-01-03 14:35:10|2021-01-03 15:15:01|          94|         193|   null| 2021-01-03|  2021-01-03|  s/b13|\n",
      "|           HV0003|              B02765|2021-01-02 22:29:35|2021-01-02 22:41:37|          37|         198|   null| 2021-01-02|  2021-01-02|  s/acd|\n",
      "|           HV0004|              B02800|2021-01-02 13:27:52|2021-01-02 13:54:44|         112|         186|   null| 2021-01-02|  2021-01-02|  s/af0|\n",
      "|           HV0005|              B02510|2021-01-02 09:22:42|2021-01-02 09:31:04|         130|         121|   null| 2021-01-02|  2021-01-02|  e/9ce|\n",
      "|           HV0003|              B02878|2021-01-05 10:05:31|2021-01-05 10:35:17|         114|         212|   null| 2021-01-05|  2021-01-05|  e/b3e|\n",
      "|           HV0003|              B02888|2021-01-02 17:58:45|2021-01-02 18:33:36|         132|         229|   null| 2021-01-02|  2021-01-02|  e/b48|\n",
      "|           HV0003|              B02835|2021-01-02 13:01:10|2021-01-02 13:08:11|         262|         236|   null| 2021-01-02|  2021-01-02|  s/b13|\n",
      "|           HV0005|              B02510|2021-01-04 06:32:54|2021-01-04 06:40:31|         131|         122|   null| 2021-01-04|  2021-01-04|  e/9ce|\n",
      "|           HV0005|              B02510|2021-01-01 23:23:04|2021-01-02 00:08:49|          72|          90|   null| 2021-01-01|  2021-01-02|  e/9ce|\n",
      "|           HV0003|              B02764|2021-01-04 04:51:37|2021-01-04 04:59:43|          35|          76|   null| 2021-01-04|  2021-01-04|  e/acc|\n",
      "|           HV0004|              B02800|2021-01-05 12:39:56|2021-01-05 12:59:39|          90|         236|   null| 2021-01-05|  2021-01-05|  s/af0|\n",
      "|           HV0005|              B02510|2021-01-05 00:17:49|2021-01-05 00:29:54|         244|         244|   null| 2021-01-05|  2021-01-05|  e/9ce|\n",
      "|           HV0003|              B02878|2021-01-01 21:28:03|2021-01-01 21:35:27|          81|         259|   null| 2021-01-01|  2021-01-01|  e/b3e|\n",
      "|           HV0003|              B02765|2021-01-01 20:09:35|2021-01-01 20:15:07|         246|          68|   null| 2021-01-01|  2021-01-01|  s/acd|\n",
      "+-----------------+--------------------+-------------------+-------------------+------------+------------+-------+-----------+------------+-------+\n",
      "only showing top 20 rows\n",
      "\n"
     ]
    },
    {
     "name": "stderr",
     "output_type": "stream",
     "text": [
      "                                                                                \r"
     ]
    }
   ],
   "source": [
    "df  \\\n",
    "    .withColumn('pickup_date', f.to_date(df.pickup_datetime)) \\\n",
    "    .withColumn('dropoff_date', f.to_date(df.dropoff_datetime)) \\\n",
    "    .withColumn('base_id', crazy_stuff_udf(df.dispatching_base_num)) \\\n",
    "    .show()\n",
    "    "
   ]
  },
  {
   "cell_type": "code",
   "execution_count": 21,
   "metadata": {},
   "outputs": [
    {
     "name": "stderr",
     "output_type": "stream",
     "text": [
      "/usr/local/lib/python3.9/dist-packages/pyspark/sql/dataframe.py:229: FutureWarning: Deprecated in 2.0, use createOrReplaceTempView instead.\n",
      "  warnings.warn(\"Deprecated in 2.0, use createOrReplaceTempView instead.\", FutureWarning)\n"
     ]
    }
   ],
   "source": [
    "df.registerTempTable('fhvhv')"
   ]
  },
  {
   "cell_type": "code",
   "execution_count": 22,
   "metadata": {},
   "outputs": [
    {
     "name": "stderr",
     "output_type": "stream",
     "text": [
      "[Stage 8:>                                                          (0 + 8) / 8]\r"
     ]
    },
    {
     "name": "stdout",
     "output_type": "stream",
     "text": [
      "+-----------------+--------------------+-------------------+-------------------+------------+------------+-------+\n",
      "|hvfhs_license_num|dispatching_base_num|    pickup_datetime|   dropoff_datetime|PULocationID|DOLocationID|SR_Flag|\n",
      "+-----------------+--------------------+-------------------+-------------------+------------+------------+-------+\n",
      "|           HV0003|              B02765|2021-01-04 21:02:06|2021-01-04 21:19:16|          56|          53|   null|\n",
      "|           HV0005|              B02510|2021-01-05 10:20:32|2021-01-05 10:27:59|          56|         173|   null|\n",
      "|           HV0003|              B02870|2021-01-04 08:50:48|2021-01-04 08:52:45|          56|          56|   null|\n",
      "|           HV0003|              B02765|2021-01-03 03:17:25|2021-01-03 03:41:43|          56|          16|   null|\n",
      "|           HV0003|              B02764|2021-01-01 08:40:27|2021-01-01 08:48:21|          56|          82|   null|\n",
      "|           HV0003|              B02869|2021-01-02 14:01:07|2021-01-02 14:12:57|          56|          92|   null|\n",
      "|           HV0003|              B02765|2021-01-03 10:08:25|2021-01-03 10:15:09|          56|          82|   null|\n",
      "|           HV0003|              B02876|2021-01-04 08:49:15|2021-01-04 08:59:10|          56|         129|   null|\n",
      "|           HV0003|              B02882|2021-01-03 18:17:13|2021-01-03 18:24:34|          56|          82|   null|\n",
      "|           HV0003|              B02867|2021-01-01 12:22:12|2021-01-01 12:46:57|          56|         243|   null|\n",
      "|           HV0003|              B02877|2021-01-04 13:55:18|2021-01-04 14:06:39|          56|          70|   null|\n",
      "|           HV0003|              B02875|2021-01-02 10:08:15|2021-01-02 10:24:10|          56|         129|   null|\n",
      "|           HV0003|              B02876|2021-01-02 19:35:47|2021-01-02 19:55:38|          56|         198|   null|\n",
      "|           HV0003|              B02764|2021-01-02 07:07:54|2021-01-02 07:25:01|          56|         260|   null|\n",
      "|           HV0003|              B02880|2021-01-03 08:16:42|2021-01-03 08:31:00|          56|         130|   null|\n",
      "|           HV0003|              B02883|2021-01-01 01:44:52|2021-01-01 01:51:45|          56|          82|   null|\n",
      "|           HV0003|              B02395|2021-01-03 10:33:24|2021-01-03 10:52:52|          56|         191|   null|\n",
      "|           HV0003|              B02889|2021-01-03 21:07:13|2021-01-03 21:20:15|          56|         129|   null|\n",
      "|           HV0005|              B02510|2021-01-01 02:18:52|2021-01-01 02:32:45|          56|          28|   null|\n",
      "|           HV0003|              B02764|2021-01-01 12:42:55|2021-01-01 12:55:46|          56|          53|   null|\n",
      "+-----------------+--------------------+-------------------+-------------------+------------+------------+-------+\n",
      "only showing top 20 rows\n",
      "\n"
     ]
    },
    {
     "name": "stderr",
     "output_type": "stream",
     "text": [
      "                                                                                \r"
     ]
    }
   ],
   "source": [
    "spark.sql('''\n",
    "select\n",
    "    *\n",
    "from\n",
    "    fhvhv\n",
    "where PULocationID = 56        \n",
    "          ''').show()"
   ]
  }
 ],
 "metadata": {
  "kernelspec": {
   "display_name": "Python 3",
   "language": "python",
   "name": "python3"
  },
  "language_info": {
   "codemirror_mode": {
    "name": "ipython",
    "version": 3
   },
   "file_extension": ".py",
   "mimetype": "text/x-python",
   "name": "python",
   "nbconvert_exporter": "python",
   "pygments_lexer": "ipython3",
   "version": "3.9.2"
  },
  "orig_nbformat": 4,
  "vscode": {
   "interpreter": {
    "hash": "916dbcbb3f70747c44a77c7bcd40155683ae19c65e1c03b4aa3499c5328201f1"
   }
  }
 },
 "nbformat": 4,
 "nbformat_minor": 2
}
